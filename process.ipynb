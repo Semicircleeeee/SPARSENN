{
 "cells": [
  {
   "cell_type": "code",
   "execution_count": null,
   "id": "cd06e785",
   "metadata": {},
   "outputs": [],
   "source": [
    "import os\n",
    "\n",
    "def find_tsv_in_subdirs(root_dir):\n",
    "    \"\"\"\n",
    "    遍历 root_dir 下的所有子目录，并返回每个子目录中的 TSV 文件列表\n",
    "    \n",
    "    返回格式: {子目录路径: [TSV文件1, TSV文件2, ...]}\n",
    "    \"\"\"\n",
    "    tsv_files_dict = {}\n",
    "    \n",
    "    # 遍历 root_dir 下的所有子目录\n",
    "    for dirpath, dirnames, filenames in os.walk(root_dir):\n",
    "        # 跳过根目录本身，只处理子目录\n",
    "        if dirpath == root_dir:\n",
    "            continue\n",
    "            \n",
    "        # 筛选当前目录下的 .tsv 文件\n",
    "        tsv_files = [f for f in filenames if f.lower().endswith('.tsv')]\n",
    "        \n",
    "        if tsv_files:  # 如果当前目录有 TSV 文件\n",
    "            tsv_files_dict[dirpath] = tsv_files\n",
    "            \n",
    "    return tsv_files_dict\n",
    "\n",
    "# 示例用法\n",
    "root_directory = \"/path/to/your/large/directory\"\n",
    "tsv_dict = find_tsv_in_subdirs(root_directory)\n",
    "\n",
    "# 打印结果\n",
    "for subdir, tsv_list in tsv_dict.items():\n",
    "    print(f\"目录: {subdir}\")\n",
    "    print(f\"TSV 文件: {tsv_list}\\n\")"
   ]
  },
  {
   "cell_type": "code",
   "execution_count": null,
   "id": "ff1d3cc6",
   "metadata": {},
   "outputs": [
    {
     "name": "stdout",
     "output_type": "stream",
     "text": [
      "Total entries: 679\n",
      "Valid RNA-Seq entries: 679 (100.00%)\n",
      "Invalid entries: 0\n"
     ]
    }
   ],
   "source": [
    "# import json\n",
    "\n",
    "# def check_experimental_strategy(json_list):\n",
    "#     \"\"\"检查所有条目的experimental_strategy字段\"\"\"\n",
    "#     non_rna_seq = []\n",
    "    \n",
    "#     for idx, entry in enumerate(json_list):\n",
    "#         # 检查字段是否存在\n",
    "#         if 'experimental_strategy' not in entry:\n",
    "#             non_rna_seq.append({\n",
    "#                 \"index\": idx,\n",
    "#                 \"reason\": \"Missing experimental_strategy field\",\n",
    "#                 \"entry_id\": entry.get(\"file_id\", \"\")\n",
    "#             })\n",
    "#             continue\n",
    "            \n",
    "#         # 检查字段值是否正确\n",
    "#         strategy = entry['experimental_strategy']\n",
    "#         if strategy != \"RNA-Seq\":\n",
    "#             non_rna_seq.append({\n",
    "#                 \"index\": idx,\n",
    "#                 \"observed_value\": strategy,\n",
    "#                 \"entry_id\": entry.get(\"file_id\", \"\")\n",
    "#             })\n",
    "    \n",
    "#     # 生成报告\n",
    "#     total = len(json_list)\n",
    "#     invalid_count = len(non_rna_seq)\n",
    "#     validity_rate = (total - invalid_count) / total * 100\n",
    "    \n",
    "#     print(f\"Total entries: {total}\")\n",
    "#     print(f\"Valid RNA-Seq entries: {total - invalid_count} ({validity_rate:.2f}%)\")\n",
    "#     print(f\"Invalid entries: {invalid_count}\")\n",
    "    \n",
    "#     if invalid_count > 0:\n",
    "#         print(\"\\nInvalid entries details:\")\n",
    "#         for item in non_rna_seq[:5]:  # 最多显示5条错误示例\n",
    "#             print(json.dumps(item, indent=2))\n",
    "\n",
    "# # 使用示例（根据实际数据加载方式调整）\n",
    "# # 假设您的数据存储在名为data.json的文件中，且是包含所有条目的JSON数组\n",
    "# with open(\"data/metadata.cart.2025-04-14.json\") as f:\n",
    "#     data = json.load(f)\n",
    "\n",
    "# check_experimental_strategy(data)"
   ]
  }
 ],
 "metadata": {
  "kernelspec": {
   "display_name": "phynn",
   "language": "python",
   "name": "python3"
  },
  "language_info": {
   "codemirror_mode": {
    "name": "ipython",
    "version": 3
   },
   "file_extension": ".py",
   "mimetype": "text/x-python",
   "name": "python",
   "nbconvert_exporter": "python",
   "pygments_lexer": "ipython3",
   "version": "3.9.21"
  }
 },
 "nbformat": 4,
 "nbformat_minor": 5
}
